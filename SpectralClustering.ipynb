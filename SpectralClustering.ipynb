{
 "cells": [
  {
   "cell_type": "markdown",
   "metadata": {},
   "source": [
    "# Spectral Clustering\n",
    "\n",
    "This notebook ilustrates spectral clustering (SC). sklearn has already SC implemented, but here I illustrate the basics of its internal procedure."
   ]
  },
  {
   "cell_type": "code",
   "execution_count": 1,
   "metadata": {},
   "outputs": [],
   "source": [
    "import numpy as np\n",
    "import pygraphviz as pgv\n",
    "import cv2\n",
    "import os\n",
    "import matplotlib.pyplot as plt\n",
    "from sklearn.cluster import KMeans\n",
    "%matplotlib inline"
   ]
  },
  {
   "cell_type": "markdown",
   "metadata": {},
   "source": [
    "The next two functions are used to visualize (using graphviz) the graph represented by an adjacency matrix. "
   ]
  },
  {
   "cell_type": "code",
   "execution_count": 2,
   "metadata": {},
   "outputs": [],
   "source": [
    "def getGraph(adjMat):\n",
    "    ''' creates a graphviz graph from an adjacency matrix\n",
    "    adjMat: (numpy.array) adjacency matrix\n",
    "    \n",
    "    returns: graphviz graph\n",
    "    '''\n",
    "    elist = []\n",
    "    for i in range(0, adjMat.shape[0]):\n",
    "        for j in range(i+1, adjMat.shape[0]):\n",
    "            if adjMat[i,j] == 1:\n",
    "                elist.append((str(i), str(j)))\n",
    "    G=pgv.AGraph()\n",
    "    G.add_edges_from(elist)\n",
    "    G.layout()\n",
    "    return G\n",
    "\n",
    "def getImg(G):\n",
    "    ''' creates image from the graphviz graph\n",
    "    G: graphviz graph\n",
    "    \n",
    "    returns: (numpy.array) image\n",
    "    '''\n",
    "    G.draw(\"graph.png\")\n",
    "    im = cv2.imread(\"graph.png\")\n",
    "    os.remove(\"graph.png\")\n",
    "    return im"
   ]
  },
  {
   "cell_type": "markdown",
   "metadata": {},
   "source": [
    "An example of graph:"
   ]
  },
  {
   "cell_type": "code",
   "execution_count": 11,
   "metadata": {},
   "outputs": [],
   "source": [
    "adjMat=np.array([[0, 1, 0, 0, 1, 1, 0, 0, 0],\n",
    "                 [1, 0, 1, 1, 0, 0, 0, 0, 0],\n",
    "                 [0, 1, 0, 1, 0, 0, 0, 0, 0],\n",
    "                 [0, 1, 1, 0, 0, 0, 0, 0, 0],\n",
    "                 [1, 0, 0, 0, 0, 1, 0, 0, 0],\n",
    "                 [1, 0, 0, 0, 1, 0, 0, 0, 0],\n",
    "                 [0, 0, 0 ,0, 0, 0, 0, 1, 1],\n",
    "                 [0, 0, 0 ,0, 0, 0, 1, 0, 1],\n",
    "                 [0, 0, 0 ,0, 0, 0, 1, 1, 0]])"
   ]
  },
  {
   "cell_type": "code",
   "execution_count": 13,
   "metadata": {},
   "outputs": [
    {
     "data": {
      "text/plain": [
       "<matplotlib.image.AxesImage at 0x7fb8283a6d90>"
      ]
     },
     "execution_count": 13,
     "metadata": {},
     "output_type": "execute_result"
    },
    {
     "data": {
      "image/png": "[encoded data removed]",
      "text/plain": [
       "<matplotlib.figure.Figure at 0x7fb8284b8490>"
      ]
     },
     "metadata": {},
     "output_type": "display_data"
    }
   ],
   "source": [
    "G = getGraph(adjMat)\n",
    "plt.imshow(getImg(G))"
   ]
  },
  {
   "cell_type": "markdown",
   "metadata": {},
   "source": [
    "function that color nodes according to their cluster:"
   ]
  },
  {
   "cell_type": "code",
   "execution_count": 5,
   "metadata": {},
   "outputs": [],
   "source": [
    "group2color = {0:\"red\", 1:\"green\", 2:\"blue\"}\n",
    "\n",
    "def colorGraph(G, colorList):\n",
    "    for n in range(len(colorList)):\n",
    "        node = G.get_node(str(n))\n",
    "        node.attr[\"style\"] = \"filled\"\n",
    "        node.attr[\"fillcolor\"] = group2color[colorList[n]]\n",
    "    return G"
   ]
  },
  {
   "cell_type": "markdown",
   "metadata": {},
   "source": [
    "This is where the magic happens. In the next cell I define two functions to compute the Laplacian and normalized Laplacian of the adjacency matrix. After that, I compute the eigenvalues and eigenvectors of the Laplacian and order them by the eigenvalues."
   ]
  },
  {
   "cell_type": "code",
   "execution_count": 14,
   "metadata": {},
   "outputs": [],
   "source": [
    "def getLaplacian(adjMat):\n",
    "    d = np.sum(adjMat, axis=0)\n",
    "    return np.diag(d) - adjMat\n",
    "\n",
    "def getSymLaplacianNorm(adjMat):\n",
    "    '''\n",
    "    https://en.wikipedia.org/wiki/Laplacian_matrix#Symmetric_normalized_Laplacian\n",
    "    '''\n",
    "    L=getLaplacian(adjMat)\n",
    "    D=np.diag(np.sum(adjMat, axis=0))\n",
    "    I=np.eye(adjMat.shape[0])\n",
    "    Dsqrt=np.sqrt(D)\n",
    "    DinvSqrt=np.linalg.inv(Dsqrt)\n",
    "    return I - np.dot(np.dot(DinvSqrt, adjMat), DinvSqrt)"
   ]
  },
  {
   "cell_type": "code",
   "execution_count": 15,
   "metadata": {},
   "outputs": [
    {
     "name": "stdout",
     "output_type": "stream",
     "text": [
      "[ 4.56  3.    3.    3.    3.    3.    0.44 -0.   -0.  ]\n",
      "[[ 0.66  0.   -0.01  0.52  0.    0.   -0.26 -0.41  0.  ]\n",
      " [-0.66  0.   -0.01  0.52  0.    0.    0.26 -0.41  0.  ]\n",
      " [ 0.18 -0.71  0.03 -0.57  0.    0.    0.46 -0.41  0.  ]\n",
      " [ 0.18  0.71 -0.02  0.06  0.    0.    0.46 -0.41  0.  ]\n",
      " [-0.18 -0.02 -0.7  -0.27  0.    0.   -0.46 -0.41  0.  ]\n",
      " [-0.18  0.02  0.71 -0.25  0.    0.   -0.46 -0.41  0.  ]\n",
      " [ 0.    0.    0.    0.    0.29  0.82  0.    0.   -0.58]\n",
      " [ 0.    0.    0.    0.   -0.81 -0.41  0.    0.   -0.58]\n",
      " [ 0.    0.    0.    0.    0.51 -0.41  0.    0.   -0.58]]\n"
     ]
    }
   ],
   "source": [
    "L=getLaplacian(adjMat)\n",
    "w, v = np.linalg.eig(L)\n",
    "idx = w.argsort()[::-1]\n",
    "print np.array_str(w[idx], precision=2, suppress_small=True)\n",
    "print np.array_str(v[:,idx], precision=2, suppress_small=True), "
   ]
  },
  {
   "cell_type": "markdown",
   "metadata": {},
   "source": [
    "I pick the eigenvectors corresponding to the smaller eigenvalues. I pick only three of those, since I will create three clusters."
   ]
  },
  {
   "cell_type": "code",
   "execution_count": 16,
   "metadata": {},
   "outputs": [],
   "source": [
    "coord=v[:,idx][:,-3:]"
   ]
  },
  {
   "cell_type": "markdown",
   "metadata": {},
   "source": [
    "Run kmeans in the coordinates:"
   ]
  },
  {
   "cell_type": "code",
   "execution_count": 17,
   "metadata": {},
   "outputs": [
    {
     "name": "stdout",
     "output_type": "stream",
     "text": [
      "[0 2 2 2 0 0 1 1 1]\n"
     ]
    }
   ],
   "source": [
    "kmeans = KMeans(n_clusters=3, random_state=0).fit(coord)\n",
    "print kmeans.labels_"
   ]
  },
  {
   "cell_type": "markdown",
   "metadata": {},
   "source": [
    "And *voilà*, I get clusters in the given graph."
   ]
  },
  {
   "cell_type": "code",
   "execution_count": 18,
   "metadata": {},
   "outputs": [
    {
     "data": {
      "text/plain": [
       "<matplotlib.image.AxesImage at 0x7fb828321a50>"
      ]
     },
     "execution_count": 18,
     "metadata": {},
     "output_type": "execute_result"
    },
    {
     "data": {
      "image/png": "[encoded data removed]",
      "text/plain": [
       "<matplotlib.figure.Figure at 0x7fb8285c7a90>"
      ]
     },
     "metadata": {},
     "output_type": "display_data"
    }
   ],
   "source": [
    "plt.imshow(getImg(colorGraph(G, kmeans.labels_)))"
   ]
  },
  {
   "cell_type": "code",
   "execution_count": null,
   "metadata": {},
   "outputs": [],
   "source": []
  }
 ],
 "metadata": {
  "kernelspec": {
   "display_name": "Python 2",
   "language": "python",
   "name": "python2"
  },
  "language_info": {
   "codemirror_mode": {
    "name": "ipython",
    "version": 2
   },
   "file_extension": ".py",
   "mimetype": "text/x-python",
   "name": "python",
   "nbconvert_exporter": "python",
   "pygments_lexer": "ipython2",
   "version": "2.7.12"
  }
 },
 "nbformat": 4,
 "nbformat_minor": 2
}
